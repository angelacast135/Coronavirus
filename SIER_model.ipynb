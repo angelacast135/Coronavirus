{
 "cells": [
  {
   "cell_type": "code",
   "execution_count": 1,
   "metadata": {},
   "outputs": [],
   "source": [
    "import pandas as pd\n",
    "import numpy as np\n",
    "import matplotlib.pyplot as plt\n",
    "from matplotlib.patches import Rectangle\n",
    "from matplotlib.collections import PatchCollection\n",
    "from scipy.optimize import curve_fit\n",
    "Z = 16"
   ]
  },
  {
   "cell_type": "code",
   "execution_count": 2,
   "metadata": {},
   "outputs": [],
   "source": [
    "covid = pd.read_csv(\"Coronavirus_Italy.csv\")"
   ]
  },
  {
   "cell_type": "code",
   "execution_count": 3,
   "metadata": {},
   "outputs": [
    {
     "data": {
      "text/html": [
       "<div>\n",
       "<style scoped>\n",
       "    .dataframe tbody tr th:only-of-type {\n",
       "        vertical-align: middle;\n",
       "    }\n",
       "\n",
       "    .dataframe tbody tr th {\n",
       "        vertical-align: top;\n",
       "    }\n",
       "\n",
       "    .dataframe thead th {\n",
       "        text-align: right;\n",
       "    }\n",
       "</style>\n",
       "<table border=\"1\" class=\"dataframe\">\n",
       "  <thead>\n",
       "    <tr style=\"text-align: right;\">\n",
       "      <th></th>\n",
       "      <th>Date</th>\n",
       "      <th>Infected</th>\n",
       "      <th>Dead</th>\n",
       "      <th>Recovered</th>\n",
       "      <th>Total</th>\n",
       "    </tr>\n",
       "  </thead>\n",
       "  <tbody>\n",
       "    <tr>\n",
       "      <th>0</th>\n",
       "      <td>2/24/2020</td>\n",
       "      <td>221</td>\n",
       "      <td>7</td>\n",
       "      <td>1</td>\n",
       "      <td>229</td>\n",
       "    </tr>\n",
       "    <tr>\n",
       "      <th>1</th>\n",
       "      <td>2/25/2020</td>\n",
       "      <td>309</td>\n",
       "      <td>11</td>\n",
       "      <td>1</td>\n",
       "      <td>321</td>\n",
       "    </tr>\n",
       "    <tr>\n",
       "      <th>2</th>\n",
       "      <td>2/26/2020</td>\n",
       "      <td>385</td>\n",
       "      <td>12</td>\n",
       "      <td>3</td>\n",
       "      <td>400</td>\n",
       "    </tr>\n",
       "    <tr>\n",
       "      <th>3</th>\n",
       "      <td>2/27/2020</td>\n",
       "      <td>588</td>\n",
       "      <td>17</td>\n",
       "      <td>45</td>\n",
       "      <td>650</td>\n",
       "    </tr>\n",
       "    <tr>\n",
       "      <th>4</th>\n",
       "      <td>2/28/2020</td>\n",
       "      <td>821</td>\n",
       "      <td>21</td>\n",
       "      <td>45</td>\n",
       "      <td>887</td>\n",
       "    </tr>\n",
       "  </tbody>\n",
       "</table>\n",
       "</div>"
      ],
      "text/plain": [
       "        Date  Infected  Dead  Recovered  Total\n",
       "0  2/24/2020       221     7          1    229\n",
       "1  2/25/2020       309    11          1    321\n",
       "2  2/26/2020       385    12          3    400\n",
       "3  2/27/2020       588    17         45    650\n",
       "4  2/28/2020       821    21         45    887"
      ]
     },
     "execution_count": 3,
     "metadata": {},
     "output_type": "execute_result"
    }
   ],
   "source": [
    "covid.head()"
   ]
  },
  {
   "cell_type": "code",
   "execution_count": 4,
   "metadata": {},
   "outputs": [
    {
     "data": {
      "text/html": [
       "<div>\n",
       "<style scoped>\n",
       "    .dataframe tbody tr th:only-of-type {\n",
       "        vertical-align: middle;\n",
       "    }\n",
       "\n",
       "    .dataframe tbody tr th {\n",
       "        vertical-align: top;\n",
       "    }\n",
       "\n",
       "    .dataframe thead th {\n",
       "        text-align: right;\n",
       "    }\n",
       "</style>\n",
       "<table border=\"1\" class=\"dataframe\">\n",
       "  <thead>\n",
       "    <tr style=\"text-align: right;\">\n",
       "      <th></th>\n",
       "      <th>Date</th>\n",
       "      <th>Infected</th>\n",
       "      <th>Dead</th>\n",
       "      <th>Recovered</th>\n",
       "      <th>Total</th>\n",
       "    </tr>\n",
       "  </thead>\n",
       "  <tbody>\n",
       "    <tr>\n",
       "      <th>21</th>\n",
       "      <td>3/16/2020</td>\n",
       "      <td>23073</td>\n",
       "      <td>2158</td>\n",
       "      <td>2749</td>\n",
       "      <td>27980</td>\n",
       "    </tr>\n",
       "    <tr>\n",
       "      <th>22</th>\n",
       "      <td>3/17/2020</td>\n",
       "      <td>26062</td>\n",
       "      <td>2503</td>\n",
       "      <td>2941</td>\n",
       "      <td>31506</td>\n",
       "    </tr>\n",
       "    <tr>\n",
       "      <th>23</th>\n",
       "      <td>3/18/2020</td>\n",
       "      <td>28710</td>\n",
       "      <td>2978</td>\n",
       "      <td>4025</td>\n",
       "      <td>35713</td>\n",
       "    </tr>\n",
       "    <tr>\n",
       "      <th>24</th>\n",
       "      <td>3/19/2020</td>\n",
       "      <td>33190</td>\n",
       "      <td>3405</td>\n",
       "      <td>4440</td>\n",
       "      <td>41035</td>\n",
       "    </tr>\n",
       "    <tr>\n",
       "      <th>25</th>\n",
       "      <td>3/20/2020</td>\n",
       "      <td>37860</td>\n",
       "      <td>4032</td>\n",
       "      <td>5129</td>\n",
       "      <td>47021</td>\n",
       "    </tr>\n",
       "  </tbody>\n",
       "</table>\n",
       "</div>"
      ],
      "text/plain": [
       "         Date  Infected  Dead  Recovered  Total\n",
       "21  3/16/2020     23073  2158       2749  27980\n",
       "22  3/17/2020     26062  2503       2941  31506\n",
       "23  3/18/2020     28710  2978       4025  35713\n",
       "24  3/19/2020     33190  3405       4440  41035\n",
       "25  3/20/2020     37860  4032       5129  47021"
      ]
     },
     "execution_count": 4,
     "metadata": {},
     "output_type": "execute_result"
    }
   ],
   "source": [
    "covid.tail()"
   ]
  },
  {
   "cell_type": "code",
   "execution_count": 5,
   "metadata": {},
   "outputs": [
    {
     "data": {
      "text/plain": [
       "Date         3/9/2020\n",
       "Infected         7985\n",
       "Dead              463\n",
       "Recovered         724\n",
       "Total            9172\n",
       "Name: 14, dtype: object"
      ]
     },
     "execution_count": 5,
     "metadata": {},
     "output_type": "execute_result"
    }
   ],
   "source": [
    "covid.iloc[14]"
   ]
  },
  {
   "cell_type": "code",
   "execution_count": 6,
   "metadata": {},
   "outputs": [],
   "source": [
    " "
   ]
  },
  {
   "cell_type": "code",
   "execution_count": 7,
   "metadata": {},
   "outputs": [],
   "source": [
    "def beta_t(t, b_step1, b_step2, alpha1, alpha2, dead, kappa, N=N0):\n",
    "    if t <= 14:\n",
    "        beta0 = b_step1\n",
    "        alpha = alpha1\n",
    "    else:\n",
    "        beta0 = b_step2\n",
    "        alpha = alpha2\n",
    "    return beta0*(1-alpha)*(1-dead/N)**kappa"
   ]
  },
  {
   "cell_type": "code",
   "execution_count": 8,
   "metadata": {},
   "outputs": [],
   "source": [
    "def S_der(S, beta, I, N=N0, mu=0):\n",
    "    return -beta*S*I/N-mu*S\n",
    "\n",
    "def E_der(E, beta, S, I, sigma=sigma, N=N0, mu=0):\n",
    "    return beta*S*I/N-(sigma+mu)*E\n",
    "\n",
    "def I_der(I, E, gamma=gamma, sigma=sigma, mu=0):\n",
    "    return sigma*E-(gamma+mu)*I\n",
    "\n",
    "def R_der(R, I, gamma=gamma, mu=0):\n",
    "    return gamma*I-mu*R\n",
    "\n",
    "def N_der(N=N0, mu=0):\n",
    "    return -mu*N\n",
    "\n",
    "def D_der(D, I, lamb, gamma=gamma, d=ds):\n",
    "    return d*gamma*I-lamb*D\n",
    "\n",
    "def C_der(C, E, sigma=sigma):\n",
    "    return sigma*E"
   ]
  },
  {
   "cell_type": "code",
   "execution_count": 9,
   "metadata": {},
   "outputs": [],
   "source": [
    "def euler(now, der_func, dh, *args):\n",
    "    return now + dh*der_func(now, *args)"
   ]
  },
  {
   "cell_type": "code",
   "execution_count": 35,
   "metadata": {},
   "outputs": [
    {
     "data": {
      "text/plain": [
       "<ErrorbarContainer object of 3 artists>"
      ]
     },
     "execution_count": 35,
     "metadata": {},
     "output_type": "execute_result"
    },
    {
     "data": {
      "image/png": "[encoded data removed]",
      "text/plain": [
       "<Figure size 432x288 with 2 Axes>"
      ]
     },
     "metadata": {
      "needs_background": "light"
     },
     "output_type": "display_data"
    }
   ],
   "source": [
    "def pred_infected(times, b_step1, b_step2, alpha1, alpha2, kappa, lamb):\n",
    "    all_S, all_E, all_I, all_R, all_D, all_C = [S0], [E0], [I0], [R0], [D0], [C0]\n",
    "    #b_step1 = 0.6\n",
    "    #b_step2 = 1.6\n",
    "    #alpha1 = 0\n",
    "    #alpha2 = 0.4\n",
    "    #kappa = 1000\n",
    "    #lamb = 11\n",
    "    integration_times = np.arange(0, times[-1]+dh, dh)\n",
    "    infected = []\n",
    "    for i, time in enumerate(integration_times):    \n",
    "        beta = beta_t(time, b_step1, b_step2, alpha1, alpha2, all_D[i], kappa)\n",
    "        new_S = euler(all_S[i], S_der, dh, beta, all_I[i])\n",
    "        new_E = euler(all_E[i], E_der, dh, beta, all_S[i], all_I[i])\n",
    "        new_I = euler(all_I[i], I_der, dh, all_E[i])\n",
    "        new_R = euler(all_R[i], R_der, dh, all_I[i])\n",
    "        new_D = euler(all_D[i], D_der, dh, all_I[i], lamb)\n",
    "        new_C = euler(all_C[i], C_der, dh, all_E[i])\n",
    "\n",
    "        all_S.append(new_S)\n",
    "        all_E.append(new_E)\n",
    "        all_I.append(new_I)\n",
    "        all_R.append(new_R)\n",
    "        all_D.append(new_D)\n",
    "        all_C.append(new_C)\n",
    "        \n",
    "        if time in times:\n",
    "            infected.append(new_I)\n",
    "    infected = np.array(infected)\n",
    "    return infected"
   ]
  },
  {
   "cell_type": "code",
   "execution_count": 36,
   "metadata": {},
   "outputs": [],
   "source": [
    "N0 = 60.48\n",
    "S0 = 0.868*N0\n",
    "E0 = 2.8*covid['Infected'][0]/10**6\n",
    "I0 = covid['Infected'][0]/10**6\n",
    "R0 = (covid['Dead'][0] + covid['Recovered'][0])/10**6\n",
    "D0 = covid['Dead'][0]/10**6\n",
    "C0 = covid['Total'][0]/10**6\n",
    "sigma = 1/3.\n",
    "gamma = 1/5.\n",
    "ds = 0.1\n",
    "dh = 0.05 #integration timestep (days)   "
   ]
  },
  {
   "cell_type": "code",
   "execution_count": 12,
   "metadata": {},
   "outputs": [
    {
     "data": {
      "text/plain": [
       "array([ 0,  1,  2,  3,  4,  5,  6,  7,  8,  9, 10, 11, 12, 13, 14, 15, 16,\n",
       "       17, 18, 19, 20, 21, 22, 23, 24, 25], dtype=int64)"
      ]
     },
     "execution_count": 12,
     "metadata": {},
     "output_type": "execute_result"
    }
   ],
   "source": [
    "p0 = (0.5944, 1.68, 0.4239, 0.8478, 1117.3, 11.2)\n",
    "p0 = (0.6, 1.6, 0, 0.4, 1000, 11)\n",
    "popt, pcov = curve_fit(pred_infected, covid.index.values, covid['Infected']/10**6, p0=p0)\n",
    "#smooth_times = np.arange(0, covid.index.values[-1], dh)\n",
    "#y_fit = pred_infected(smooth_times, *popt)\n",
    "#plt.plot(smooth_times, y_fit)\n",
    "fig = plt.figure()\n",
    "ax = plt.axes()\n",
    "ax.grid()\n",
    "ax2 = ax.twinx()\n",
    "xx = np.linspace(0,25,26)\n",
    "ax.errorbar(covid.index, covid['Infected']/10**6, fmt='o-', color='b')\n",
    "ax.set_ylabel(\"True\")\n",
    "ax.yaxis.label.set_color('b')\n",
    "ax.errorbar(xx, pred_infected(xx, *p0), fmt='o-', color='r')\n",
    "#ax2.set_ylabel(\"Predicted\")\n",
    "#ax2.yaxis.label.set_color('r')"
   ]
  },
  {
   "cell_type": "code",
   "execution_count": null,
   "metadata": {},
   "outputs": [],
   "source": []
  }
 ],
 "metadata": {
  "kernelspec": {
   "display_name": "Python 3",
   "language": "python",
   "name": "python3"
  },
  "language_info": {
   "codemirror_mode": {
    "name": "ipython",
    "version": 3
   },
   "file_extension": ".py",
   "mimetype": "text/x-python",
   "name": "python",
   "nbconvert_exporter": "python",
   "pygments_lexer": "ipython3",
   "version": "3.7.3"
  }
 },
 "nbformat": 4,
 "nbformat_minor": 2
}
