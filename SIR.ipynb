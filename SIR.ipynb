{
 "cells": [
  {
   "cell_type": "code",
   "execution_count": 1,
   "metadata": {},
   "outputs": [],
   "source": [
    "import pandas as pd\n",
    "import numpy as np\n",
    "import matplotlib.pyplot as plt\n",
    "from matplotlib.patches import Rectangle\n",
    "from matplotlib.collections import PatchCollection\n",
    "from scipy.optimize import curve_fit\n",
    "Z = 16"
   ]
  },
  {
   "cell_type": "code",
   "execution_count": 2,
   "metadata": {},
   "outputs": [],
   "source": [
    "covid = pd.read_csv(\"Coronavirus_Italy.csv\")\n",
    "inf_col = \"Infected\""
   ]
  },
  {
   "cell_type": "code",
   "execution_count": 3,
   "metadata": {},
   "outputs": [
    {
     "data": {
      "text/html": [
       "<div>\n",
       "<style scoped>\n",
       "    .dataframe tbody tr th:only-of-type {\n",
       "        vertical-align: middle;\n",
       "    }\n",
       "\n",
       "    .dataframe tbody tr th {\n",
       "        vertical-align: top;\n",
       "    }\n",
       "\n",
       "    .dataframe thead th {\n",
       "        text-align: right;\n",
       "    }\n",
       "</style>\n",
       "<table border=\"1\" class=\"dataframe\">\n",
       "  <thead>\n",
       "    <tr style=\"text-align: right;\">\n",
       "      <th></th>\n",
       "      <th>Date</th>\n",
       "      <th>Infected</th>\n",
       "      <th>Dead</th>\n",
       "      <th>Recovered</th>\n",
       "      <th>Total</th>\n",
       "    </tr>\n",
       "  </thead>\n",
       "  <tbody>\n",
       "    <tr>\n",
       "      <th>0</th>\n",
       "      <td>2/22/2020</td>\n",
       "      <td>76</td>\n",
       "      <td>2</td>\n",
       "      <td>1</td>\n",
       "      <td>79</td>\n",
       "    </tr>\n",
       "    <tr>\n",
       "      <th>1</th>\n",
       "      <td>2/23/2020</td>\n",
       "      <td>146</td>\n",
       "      <td>3</td>\n",
       "      <td>1</td>\n",
       "      <td>150</td>\n",
       "    </tr>\n",
       "    <tr>\n",
       "      <th>2</th>\n",
       "      <td>2/24/2020</td>\n",
       "      <td>221</td>\n",
       "      <td>7</td>\n",
       "      <td>1</td>\n",
       "      <td>229</td>\n",
       "    </tr>\n",
       "    <tr>\n",
       "      <th>3</th>\n",
       "      <td>2/25/2020</td>\n",
       "      <td>309</td>\n",
       "      <td>11</td>\n",
       "      <td>1</td>\n",
       "      <td>321</td>\n",
       "    </tr>\n",
       "    <tr>\n",
       "      <th>4</th>\n",
       "      <td>2/26/2020</td>\n",
       "      <td>385</td>\n",
       "      <td>12</td>\n",
       "      <td>3</td>\n",
       "      <td>400</td>\n",
       "    </tr>\n",
       "  </tbody>\n",
       "</table>\n",
       "</div>"
      ],
      "text/plain": [
       "        Date  Infected  Dead  Recovered  Total\n",
       "0  2/22/2020        76     2          1     79\n",
       "1  2/23/2020       146     3          1    150\n",
       "2  2/24/2020       221     7          1    229\n",
       "3  2/25/2020       309    11          1    321\n",
       "4  2/26/2020       385    12          3    400"
      ]
     },
     "execution_count": 3,
     "metadata": {},
     "output_type": "execute_result"
    }
   ],
   "source": [
    "covid.head()"
   ]
  },
  {
   "cell_type": "code",
   "execution_count": 4,
   "metadata": {},
   "outputs": [
    {
     "data": {
      "text/html": [
       "<div>\n",
       "<style scoped>\n",
       "    .dataframe tbody tr th:only-of-type {\n",
       "        vertical-align: middle;\n",
       "    }\n",
       "\n",
       "    .dataframe tbody tr th {\n",
       "        vertical-align: top;\n",
       "    }\n",
       "\n",
       "    .dataframe thead th {\n",
       "        text-align: right;\n",
       "    }\n",
       "</style>\n",
       "<table border=\"1\" class=\"dataframe\">\n",
       "  <thead>\n",
       "    <tr style=\"text-align: right;\">\n",
       "      <th></th>\n",
       "      <th>Date</th>\n",
       "      <th>Infected</th>\n",
       "      <th>Dead</th>\n",
       "      <th>Recovered</th>\n",
       "      <th>Total</th>\n",
       "    </tr>\n",
       "  </thead>\n",
       "  <tbody>\n",
       "    <tr>\n",
       "      <th>23</th>\n",
       "      <td>3/16/2020</td>\n",
       "      <td>23073</td>\n",
       "      <td>2158</td>\n",
       "      <td>2749</td>\n",
       "      <td>27980</td>\n",
       "    </tr>\n",
       "    <tr>\n",
       "      <th>24</th>\n",
       "      <td>3/17/2020</td>\n",
       "      <td>26062</td>\n",
       "      <td>2503</td>\n",
       "      <td>2941</td>\n",
       "      <td>31506</td>\n",
       "    </tr>\n",
       "    <tr>\n",
       "      <th>25</th>\n",
       "      <td>3/18/2020</td>\n",
       "      <td>28710</td>\n",
       "      <td>2978</td>\n",
       "      <td>4025</td>\n",
       "      <td>35713</td>\n",
       "    </tr>\n",
       "    <tr>\n",
       "      <th>26</th>\n",
       "      <td>3/19/2020</td>\n",
       "      <td>33190</td>\n",
       "      <td>3405</td>\n",
       "      <td>4440</td>\n",
       "      <td>41035</td>\n",
       "    </tr>\n",
       "    <tr>\n",
       "      <th>27</th>\n",
       "      <td>3/20/2020</td>\n",
       "      <td>37860</td>\n",
       "      <td>4032</td>\n",
       "      <td>5129</td>\n",
       "      <td>47021</td>\n",
       "    </tr>\n",
       "  </tbody>\n",
       "</table>\n",
       "</div>"
      ],
      "text/plain": [
       "         Date  Infected  Dead  Recovered  Total\n",
       "23  3/16/2020     23073  2158       2749  27980\n",
       "24  3/17/2020     26062  2503       2941  31506\n",
       "25  3/18/2020     28710  2978       4025  35713\n",
       "26  3/19/2020     33190  3405       4440  41035\n",
       "27  3/20/2020     37860  4032       5129  47021"
      ]
     },
     "execution_count": 4,
     "metadata": {},
     "output_type": "execute_result"
    }
   ],
   "source": [
    "covid.tail()"
   ]
  },
  {
   "cell_type": "code",
   "execution_count": 6,
   "metadata": {},
   "outputs": [
    {
     "data": {
      "text/plain": [
       "Date         3/9/2020\n",
       "Infected         7985\n",
       "Dead              463\n",
       "Recovered         724\n",
       "Total            9172\n",
       "Name: 16, dtype: object"
      ]
     },
     "execution_count": 6,
     "metadata": {},
     "output_type": "execute_result"
    }
   ],
   "source": [
    "covid.iloc[16]"
   ]
  },
  {
   "cell_type": "code",
   "execution_count": 7,
   "metadata": {},
   "outputs": [],
   "source": [
    "R0=2.8\n",
    "N0 = 60.48\n",
    "dh = 0.05"
   ]
  },
  {
   "cell_type": "code",
   "execution_count": 8,
   "metadata": {},
   "outputs": [],
   "source": [
    "def S_der(S, I, gamma, R0=R0, N=N0):\n",
    "    return -R0*gamma*I*S/N\n",
    "\n",
    "def I_der(I, S, gamma, R0=R0, N=N0):\n",
    "    return R0*gamma*I*S/N - gamma*I\n",
    "\n",
    "def R_der(R, I, gamma):\n",
    "    return gamma*I"
   ]
  },
  {
   "cell_type": "code",
   "execution_count": 9,
   "metadata": {},
   "outputs": [],
   "source": [
    "def euler(now, der_func, dh, *args):\n",
    "    return now + dh*der_func(now, *args)\n",
    "\n",
    "def midpoint(now, der_func, dh, *args):\n",
    "    return now + dh*der_func(now+dh/2*der_func(now, *args), *args)"
   ]
  },
  {
   "cell_type": "code",
   "execution_count": 10,
   "metadata": {},
   "outputs": [],
   "source": [
    "def pred_infected(times, gamma):\n",
    "    S, I, R = [N0], [covid[inf_col][0]/10**6], [covid['Recovered'][0]/10**6]\n",
    "    integration_times = np.arange(0, times[-1]+dh, dh)\n",
    "    infected = []\n",
    "    for i, time in enumerate(integration_times):\n",
    "        new_s = midpoint(S[i], S_der, dh, I[i], gamma)\n",
    "        new_i = midpoint(I[i], I_der, dh, S[i], gamma)\n",
    "        new_r = midpoint(R[i], R_der, dh, I[i], gamma)\n",
    "        \n",
    "        S.append(new_s)\n",
    "        I.append(new_i)\n",
    "        R.append(new_r)\n",
    "        \n",
    "        if time in times:\n",
    "            infected.append(I[i])\n",
    "    infected = np.array(infected)\n",
    "    return infected\n",
    "\n",
    "def pred_recovered(times, gamma):\n",
    "    S, I, R = [N0], [covid[inf_col][0]/10**6], [covid['Recovered'][0]/10**6]\n",
    "    integration_times = np.arange(0, times[-1]+dh, dh)\n",
    "    recovered = []\n",
    "    for i, time in enumerate(integration_times):\n",
    "        new_s = midpoint(S[i], S_der, dh, I[i], gamma)\n",
    "        new_i = midpoint(I[i], I_der, dh, S[i], R[i], gamma)\n",
    "        new_r = midpoint(R[i], R_der, dh, I[i], gamma)\n",
    "        \n",
    "        S.append(new_s)\n",
    "        I.append(new_i)\n",
    "        R.append(new_r)\n",
    "        \n",
    "        if time in times:\n",
    "            recovered.append(R[i])\n",
    "    recovered = np.array(recovered)\n",
    "    return recovered"
   ]
  },
  {
   "cell_type": "code",
   "execution_count": 12,
   "metadata": {},
   "outputs": [
    {
     "name": "stdout",
     "output_type": "stream",
     "text": [
      "[0.13152774] [7.60295908]\n"
     ]
    },
    {
     "data": {
      "image/png": "[encoded data removed]",
      "text/plain": [
       "<Figure size 936x288 with 2 Axes>"
      ]
     },
     "metadata": {
      "needs_background": "light"
     },
     "output_type": "display_data"
    }
   ],
   "source": [
    "p0 = (0.1)\n",
    "popt, pcov = curve_fit(pred_infected, covid.index.values, covid[inf_col]/10**6, p0=p0)\n",
    "print(popt, 1/popt)\n",
    "smooth_times = np.arange(0, covid.index.values[-1], dh)\n",
    "infected = pred_infected(smooth_times, *popt)\n",
    "recovered = pred_recovered(smooth_times, *popt)\n",
    "\n",
    "fig, axs = plt.subplots(figsize=(13,4), ncols=2, nrows=1)\n",
    "axs[0].set_title(\"Infected\", fontsize=Z+4)\n",
    "axs[0].plot(covid.index, covid[inf_col], label=\"Data\")\n",
    "axs[0].plot(smooth_times, infected*10**6, label=\"Prediction\")\n",
    "axs[1].set_title(\"Recovered\", fontsize=Z+4)\n",
    "axs[1].plot(covid.index, covid['Recovered'], label=\"Data\")\n",
    "axs[1].plot(smooth_times, recovered*10**6, label=\"Prediction\")\n",
    "for ax in axs.flatten():\n",
    "    ax.set_xlim(0,max(smooth_times))\n",
    "    ax.set_xticks(np.arange(0, max(smooth_times)+1,5))\n",
    "    ax.grid()\n",
    "    ax.tick_params(labelsize=Z)\n",
    "    ax.set_xlabel(\"Days from February 22\", fontsize=Z)\n",
    "    ax.legend(fontsize=Z)\n",
    "plt.show()\n",
    "plt.close()"
   ]
  },
  {
   "cell_type": "code",
   "execution_count": null,
   "metadata": {},
   "outputs": [],
   "source": []
  }
 ],
 "metadata": {
  "kernelspec": {
   "display_name": "Python 3",
   "language": "python",
   "name": "python3"
  },
  "language_info": {
   "codemirror_mode": {
    "name": "ipython",
    "version": 3
   },
   "file_extension": ".py",
   "mimetype": "text/x-python",
   "name": "python",
   "nbconvert_exporter": "python",
   "pygments_lexer": "ipython3",
   "version": "3.7.3"
  }
 },
 "nbformat": 4,
 "nbformat_minor": 2
}
